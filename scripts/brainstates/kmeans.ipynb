{
 "cells": [
  {
   "cell_type": "code",
   "execution_count": 12,
   "id": "1af57223",
   "metadata": {},
   "outputs": [],
   "source": [
    "import numpy as np\n",
    "import scipy.io as spio\n",
    "from sklearn.cluster import KMeans\n",
    "import time\n",
    "from kmeans_progress import KMeansProgress\n",
    "import mat73"
   ]
  },
  {
   "cell_type": "markdown",
   "id": "a3c5e630",
   "metadata": {},
   "source": [
    "## importamos datos del .mat"
   ]
  },
  {
   "cell_type": "code",
   "execution_count": 13,
   "id": "413efce3",
   "metadata": {},
   "outputs": [],
   "source": [
    "DATASET_NAME = \"windows\"\n",
    "dataset = spio.loadmat('/home/usuario/disco1/proyectos/2023-resting-state-estados-fMRI_conn/scripts/brainstates/dataset/dataset_264.mat'.format(DATASET_NAME))['windows']\n",
    "#dataset = mat73.loadmat('dataset/{}.mat'.format(DATASET_NAME))['dataset']"
   ]
  },
  {
   "cell_type": "code",
   "execution_count": 14,
   "id": "93743dce",
   "metadata": {},
   "outputs": [
    {
     "data": {
      "text/plain": [
       "(9288, 34716)"
      ]
     },
     "execution_count": 14,
     "metadata": {},
     "output_type": "execute_result"
    }
   ],
   "source": [
    "dataset.shape"
   ]
  },
  {
   "cell_type": "markdown",
   "id": "4949dc63",
   "metadata": {},
   "source": [
    "## corremos el k-means"
   ]
  },
  {
   "cell_type": "code",
   "execution_count": 15,
   "id": "c9a61413",
   "metadata": {},
   "outputs": [
    {
     "name": "stdout",
     "output_type": "stream",
     "text": [
      "Finished iteration 1/100\n",
      "Finished iteration 2/100\n",
      "Finished iteration 3/100\n",
      "Finished iteration 4/100\n",
      "Finished iteration 5/100\n",
      "Finished iteration 6/100\n",
      "Finished iteration 7/100\n",
      "Finished iteration 8/100\n",
      "Finished iteration 9/100\n",
      "Finished iteration 10/100\n",
      "Finished iteration 11/100\n",
      "Finished iteration 12/100\n",
      "Finished iteration 13/100\n",
      "Finished iteration 14/100\n",
      "Finished iteration 15/100\n",
      "Finished iteration 16/100\n",
      "Finished iteration 17/100\n",
      "Finished iteration 18/100\n",
      "Finished iteration 19/100\n",
      "Finished iteration 20/100\n",
      "Finished iteration 21/100\n",
      "Finished iteration 22/100\n",
      "Finished iteration 23/100\n",
      "Finished iteration 24/100\n",
      "Finished iteration 25/100\n",
      "Finished iteration 26/100\n",
      "Finished iteration 27/100\n",
      "Finished iteration 28/100\n",
      "Finished iteration 29/100\n",
      "Finished iteration 30/100\n",
      "Finished iteration 31/100\n",
      "Finished iteration 32/100\n",
      "Finished iteration 33/100\n",
      "Finished iteration 34/100\n",
      "Finished iteration 35/100\n",
      "Finished iteration 36/100\n",
      "Finished iteration 37/100\n",
      "Finished iteration 38/100\n",
      "Finished iteration 39/100\n",
      "Finished iteration 40/100\n",
      "Finished iteration 41/100\n",
      "Finished iteration 42/100\n",
      "Finished iteration 43/100\n",
      "Finished iteration 44/100\n",
      "Finished iteration 45/100\n",
      "Finished iteration 46/100\n",
      "Finished iteration 47/100\n",
      "Finished iteration 48/100\n",
      "Finished iteration 49/100\n",
      "Finished iteration 50/100\n",
      "Finished iteration 51/100\n",
      "Finished iteration 52/100\n",
      "Finished iteration 53/100\n",
      "Finished iteration 54/100\n",
      "Finished iteration 55/100\n",
      "Finished iteration 56/100\n",
      "Finished iteration 57/100\n",
      "Finished iteration 58/100\n",
      "Finished iteration 59/100\n",
      "Finished iteration 60/100\n",
      "Finished iteration 61/100\n",
      "Finished iteration 62/100\n",
      "Finished iteration 63/100\n",
      "Finished iteration 64/100\n",
      "Finished iteration 65/100\n",
      "Finished iteration 66/100\n",
      "Finished iteration 67/100\n",
      "Finished iteration 68/100\n",
      "Finished iteration 69/100\n",
      "Finished iteration 70/100\n",
      "Finished iteration 71/100\n",
      "Finished iteration 72/100\n",
      "Finished iteration 73/100\n",
      "Finished iteration 74/100\n",
      "Finished iteration 75/100\n",
      "Finished iteration 76/100\n",
      "Finished iteration 77/100\n",
      "Finished iteration 78/100\n",
      "Finished iteration 79/100\n",
      "Finished iteration 80/100\n",
      "Finished iteration 81/100\n",
      "Finished iteration 82/100\n",
      "Finished iteration 83/100\n",
      "Finished iteration 84/100\n",
      "Finished iteration 85/100\n",
      "Finished iteration 86/100\n",
      "Finished iteration 87/100\n",
      "Finished iteration 88/100\n",
      "Finished iteration 89/100\n",
      "Finished iteration 90/100\n",
      "Finished iteration 91/100\n",
      "Finished iteration 92/100\n",
      "Finished iteration 93/100\n",
      "Finished iteration 94/100\n",
      "Finished iteration 95/100\n",
      "Finished iteration 96/100\n",
      "Finished iteration 97/100\n",
      "Finished iteration 98/100\n",
      "Finished iteration 99/100\n",
      "Finished iteration 100/100\n",
      "Best centroid was 57 with SSE = 48940076.0\n",
      "14403.448076963425\n"
     ]
    }
   ],
   "source": [
    "init_time = time.time()\n",
    "\n",
    "kmp = KMeansProgress(\n",
    "    n_clusters = 10,\n",
    "    init = 'k-means++',\n",
    "    n_init = 1000,\n",
    "    progress_path = '/home/usuario/disco1/proyectos/2023-resting-state-estados-fMRI_conn/scripts/brainstates/progress',\n",
    "    n_checkpoints = 100\n",
    ")\n",
    "\n",
    "kmp.fit(dataset)\n",
    "\n",
    "#km = KMeans(n_clusters = k, init = 'k-means++', n_init = replicates, random_state = 5, verbose=1).fit(dataset)\n",
    "#sse = km.inertia_\n",
    "#centers = km.cluster_centers_\n",
    "\n",
    "#data_mat = {'C': centers}\n",
    "#EXPORT_PATH = 'results/'\n",
    "#spio.savemat('{}/{}-{}-{}-output.mat'.format(EXPORT_PATH, DATASET_NAME, k, replicates), data_mat)\n",
    "\n",
    "final_time = time.time()\n",
    "print(final_time-init_time)"
   ]
  },
  {
   "cell_type": "code",
   "execution_count": null,
   "id": "4192e5e7",
   "metadata": {},
   "outputs": [],
   "source": [
    "\n",
    "\n",
    "\n",
    "\n"
   ]
  }
 ],
 "metadata": {
  "kernelspec": {
   "display_name": "Python 3 (ipykernel)",
   "language": "python",
   "name": "python3"
  },
  "language_info": {
   "codemirror_mode": {
    "name": "ipython",
    "version": 3
   },
   "file_extension": ".py",
   "mimetype": "text/x-python",
   "name": "python",
   "nbconvert_exporter": "python",
   "pygments_lexer": "ipython3",
   "version": "3.8.10"
  }
 },
 "nbformat": 4,
 "nbformat_minor": 5
}
